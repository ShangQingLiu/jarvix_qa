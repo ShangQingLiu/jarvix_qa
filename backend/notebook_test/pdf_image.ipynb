{
 "cells": [
  {
   "cell_type": "code",
   "execution_count": 8,
   "metadata": {},
   "outputs": [
    {
     "name": "stdout",
     "output_type": "stream",
     "text": [
      "['../mount_storage/uploads/SMT Expert/pdf/SMT BOM processes.pdf', '../mount_storage/uploads/SMT Expert/pdf/PCBA notice.pdf', '../mount_storage/uploads/SMT Expert/pdf/SMT error analytics.pdf', '../mount_storage/uploads/SMT Expert/pdf/SMT solder.pdf', '../mount_storage/uploads/SMT Expert/pdf/关于SMT生产现场防静电技术分析.pdf', '../mount_storage/uploads/SMT Expert/pdf/smt生產實訊.pdf', '../mount_storage/uploads/SMT Expert/pdf/SMT常用知识.pdf', '../mount_storage/uploads/SMT Expert/pdf/SMT flux.pdf', '../mount_storage/uploads/SMT Expert/pdf/SMT lab.pdf', '../mount_storage/uploads/SMT Expert/pdf/BGA malfunction.pdf', '../mount_storage/uploads/SMT Expert/pdf/BGA error 2.pdf', '../mount_storage/uploads/SMT Expert/pdf/SMT safety.pdf']\n"
     ]
    }
   ],
   "source": [
    "import glob\n",
    "path = \"../mount_storage/uploads/SMT Expert/pdf/*\"\n",
    "files = glob.glob(path)\n",
    "print(files)"
   ]
  },
  {
   "cell_type": "code",
   "execution_count": null,
   "metadata": {},
   "outputs": [],
   "source": []
  }
 ],
 "metadata": {
  "kernelspec": {
   "display_name": "Python 3",
   "language": "python",
   "name": "python3"
  },
  "language_info": {
   "codemirror_mode": {
    "name": "ipython",
    "version": 3
   },
   "file_extension": ".py",
   "mimetype": "text/x-python",
   "name": "python",
   "nbconvert_exporter": "python",
   "pygments_lexer": "ipython3",
   "version": "3.10.6"
  },
  "orig_nbformat": 4
 },
 "nbformat": 4,
 "nbformat_minor": 2
}
